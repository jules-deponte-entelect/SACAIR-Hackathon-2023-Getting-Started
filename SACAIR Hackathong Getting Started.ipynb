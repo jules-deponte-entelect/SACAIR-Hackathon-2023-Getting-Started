{
 "cells": [
  {
   "cell_type": "markdown",
   "metadata": {},
   "source": [
    "# Step 1:\n",
    "\n",
    "# Step 1:\nRun the below code first. Wait for this to finish running. Once it is done, you will find a folder called ```SACAIR-Hackathon-2023``` in your Google Drive account. This contains the data and starter code for your project.\n\nOnce the below code has finished running, please close this window, and navigate to your Google Drive folder. Please rename it to ```SACAIR-Hackathon-2023-<YOUR_TEAM_NAME```.\n\nFrom there, open the notebook called ```Eskom Data.ipynb```, run the starter code and get devving!

Good Luck!
"
   ]
  },
  {
   "cell_type": "code",
   "execution_count": null,
   "metadata": {},
   "outputs": [],
   "source": [
    "from google.colab import drive\n",
    "drive.mount('/content/drive')\n",
    "%cd drive/My Drive\n",
    "%rm -rf .git\n",
    "\n",
    "!git clone https://github.com/jules-deponte-entelect/SACAIR-Hackathon-2023\n",
    "%cd SACAIR-Hackathon-2023\n",
    "%rm -rf .git"
   ]
  }
 ],
 "metadata": {
  "language_info": {
   "name": "python"
  }
 },
 "nbformat": 4,
 "nbformat_minor": 2
}
